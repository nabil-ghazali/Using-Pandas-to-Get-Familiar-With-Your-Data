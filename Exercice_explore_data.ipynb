{
 "cells": [
  {
   "cell_type": "markdown",
   "id": "a38cfcd2",
   "metadata": {},
   "source": [
    "Jusqu'à présent, on a chargé nos données et les avons examinées avec le code suivant.\n",
    "Exécutez cette cellule pour reconfigurer  l'environnement de codage à l'étape précédente Explore_Your_Data."
   ]
  },
  {
   "cell_type": "code",
   "execution_count": 1,
   "id": "9474573e",
   "metadata": {},
   "outputs": [
    {
     "name": "stdout",
     "output_type": "stream",
     "text": [
      "Requirement already satisfied: learntools in ./.venv/lib/python3.12/site-packages (0.0.20)\n",
      "Requirement already satisfied: numpy in ./.venv/lib/python3.12/site-packages (from learntools) (2.3.1)\n"
     ]
    }
   ],
   "source": [
    "!pip install learntools"
   ]
  },
  {
   "cell_type": "code",
   "execution_count": 3,
   "id": "9d1754ea",
   "metadata": {},
   "outputs": [
    {
     "name": "stdout",
     "output_type": "stream",
     "text": [
      "Setup Complete\n"
     ]
    }
   ],
   "source": [
    "# Code you have previously used to load data\n",
    "import pandas as pd\n",
    "# Set up code checking\n",
    "\n",
    "# Path of the file to read\n",
    "iowa_file_path = 'melb_data.csv'\n",
    "\n",
    "home_data = pd.read_csv(iowa_file_path)\n",
    "\n",
    "\n",
    "\n",
    "print(\"Setup Complete\")"
   ]
  },
  {
   "cell_type": "markdown",
   "id": "2d3de53e",
   "metadata": {},
   "source": [
    "Step 1: Specify Prediction Target¶\n",
    "Select the target variable, which corresponds to the sales price. Save this to a new variable called y. You'll need to print a list of the columns to find the name of the column you need."
   ]
  },
  {
   "cell_type": "code",
   "execution_count": 4,
   "id": "0b577d9b",
   "metadata": {},
   "outputs": [
    {
     "name": "stdout",
     "output_type": "stream",
     "text": [
      "Index(['Suburb', 'Address', 'Rooms', 'Type', 'Price', 'Method', 'SellerG',\n",
      "       'Date', 'Distance', 'Postcode', 'Bedroom2', 'Bathroom', 'Car',\n",
      "       'Landsize', 'BuildingArea', 'YearBuilt', 'CouncilArea', 'Lattitude',\n",
      "       'Longtitude', 'Regionname', 'Propertycount'],\n",
      "      dtype='object')\n"
     ]
    }
   ],
   "source": [
    "# print the list of columns in the dataset to find the name of the prediction target\n",
    "print(home_data.columns)"
   ]
  },
  {
   "cell_type": "code",
   "execution_count": null,
   "id": "1f0fed94",
   "metadata": {},
   "outputs": [
    {
     "name": "stdout",
     "output_type": "stream",
     "text": [
      "0        1480000.0\n",
      "1        1035000.0\n",
      "2        1465000.0\n",
      "3         850000.0\n",
      "4        1600000.0\n",
      "           ...    \n",
      "13575    1245000.0\n",
      "13576    1031000.0\n",
      "13577    1170000.0\n",
      "13578    2500000.0\n",
      "13579    1285000.0\n",
      "Name: Price, Length: 13580, dtype: float64\n"
     ]
    }
   ],
   "source": [
    "# the name of prediction target\n",
    "y = home_data.Price"
   ]
  },
  {
   "cell_type": "markdown",
   "id": "9f67a9db",
   "metadata": {},
   "source": [
    "Step 2: Create X\n",
    "Now you will create a DataFrame called X holding the predictive features.\n",
    "\n",
    "Since you want only some columns from the original data, you'll first create a list with the names of the columns you want in X.\n",
    "\n",
    "You'll use just the following columns in the list (you can copy and paste the whole list to save some typing, though you'll still need to add quotes):\n",
    "\n",
    "'Rooms', 'Bathroom', 'Landsize', 'Lattitude', 'Longtitude'"
   ]
  },
  {
   "cell_type": "code",
   "execution_count": 7,
   "id": "eed5d21e",
   "metadata": {},
   "outputs": [
    {
     "name": "stdout",
     "output_type": "stream",
     "text": [
      "       Rooms  Bathroom  Landsize  Lattitude  Longtitude\n",
      "0          2       1.0     202.0  -37.79960   144.99840\n",
      "1          2       1.0     156.0  -37.80790   144.99340\n",
      "2          3       2.0     134.0  -37.80930   144.99440\n",
      "3          3       2.0      94.0  -37.79690   144.99690\n",
      "4          4       1.0     120.0  -37.80720   144.99410\n",
      "...      ...       ...       ...        ...         ...\n",
      "13575      4       2.0     652.0  -37.90562   145.16761\n",
      "13576      3       2.0     333.0  -37.85927   144.87904\n",
      "13577      3       2.0     436.0  -37.85274   144.88738\n",
      "13578      4       1.0     866.0  -37.85908   144.89299\n",
      "13579      4       1.0     362.0  -37.81188   144.88449\n",
      "\n",
      "[13580 rows x 5 columns]\n"
     ]
    }
   ],
   "source": [
    "# Create the list of features below\n",
    "feature_names = ['Rooms', 'Bathroom', 'Landsize', 'Lattitude', 'Longtitude']\n",
    "\n",
    "# Select data corresponding to features in feature_names\n",
    "X = home_data[feature_names]\n",
    "print(X)"
   ]
  }
 ],
 "metadata": {
  "kernelspec": {
   "display_name": ".venv",
   "language": "python",
   "name": "python3"
  },
  "language_info": {
   "codemirror_mode": {
    "name": "ipython",
    "version": 3
   },
   "file_extension": ".py",
   "mimetype": "text/x-python",
   "name": "python",
   "nbconvert_exporter": "python",
   "pygments_lexer": "ipython3",
   "version": "3.12.3"
  }
 },
 "nbformat": 4,
 "nbformat_minor": 5
}
