{
 "cells": [
  {
   "cell_type": "markdown",
   "id": "ac2e0db0",
   "metadata": {},
   "source": [
    "Machine Learning :\n",
    "\n",
    "This exercise will test your ability to read a data file and understand statistics about the data.\n",
    "\n",
    "In later exercises, you will apply techniques to filter the data, build a machine learning model, and iteratively improve your model.\n",
    "\n",
    "The course examples use data from Melbourne. To ensure you can apply these techniques on your own, you will have to apply them to a new dataset (with house prices from Iowa).\n",
    "\n",
    "The exercises use a \"notebook\" coding environment.  In case you are unfamiliar with notebooks, we have a [90-second intro video](https://www.youtube.com/watch?v=4C2qMnaIKL4).\n",
    "\n",
    "# Exercises\n",
    "\n",
    "Run the following cell to set up code-checking, which will verify your work as you go."
   ]
  },
  {
   "cell_type": "code",
   "execution_count": 7,
   "id": "b529337e",
   "metadata": {},
   "outputs": [
    {
     "name": "stdout",
     "output_type": "stream",
     "text": [
      "              Rooms         Price      Distance      Postcode      Bedroom2  \\\n",
      "count  13580.000000  1.358000e+04  13580.000000  13580.000000  13580.000000   \n",
      "mean       2.937997  1.075684e+06     10.137776   3105.301915      2.914728   \n",
      "std        0.955748  6.393107e+05      5.868725     90.676964      0.965921   \n",
      "min        1.000000  8.500000e+04      0.000000   3000.000000      0.000000   \n",
      "25%        2.000000  6.500000e+05      6.100000   3044.000000      2.000000   \n",
      "50%        3.000000  9.030000e+05      9.200000   3084.000000      3.000000   \n",
      "75%        3.000000  1.330000e+06     13.000000   3148.000000      3.000000   \n",
      "max       10.000000  9.000000e+06     48.100000   3977.000000     20.000000   \n",
      "\n",
      "           Bathroom           Car       Landsize  BuildingArea    YearBuilt  \\\n",
      "count  13580.000000  13518.000000   13580.000000   7130.000000  8205.000000   \n",
      "mean       1.534242      1.610075     558.416127    151.967650  1964.684217   \n",
      "std        0.691712      0.962634    3990.669241    541.014538    37.273762   \n",
      "min        0.000000      0.000000       0.000000      0.000000  1196.000000   \n",
      "25%        1.000000      1.000000     177.000000     93.000000  1940.000000   \n",
      "50%        1.000000      2.000000     440.000000    126.000000  1970.000000   \n",
      "75%        2.000000      2.000000     651.000000    174.000000  1999.000000   \n",
      "max        8.000000     10.000000  433014.000000  44515.000000  2018.000000   \n",
      "\n",
      "          Lattitude    Longtitude  Propertycount  \n",
      "count  13580.000000  13580.000000   13580.000000  \n",
      "mean     -37.809203    144.995216    7454.417378  \n",
      "std        0.079260      0.103916    4378.581772  \n",
      "min      -38.182550    144.431810     249.000000  \n",
      "25%      -37.856822    144.929600    4380.000000  \n",
      "50%      -37.802355    145.000100    6555.000000  \n",
      "75%      -37.756400    145.058305   10331.000000  \n",
      "max      -37.408530    145.526350   21650.000000  \n"
     ]
    }
   ],
   "source": [
    "import pandas as pd\n",
    "\n",
    "# Path of the file to read\n",
    "iowa_file_path = 'melb_data.csv'\n",
    "\n",
    "# Fill in the line below to read the file into a variable home_data\n",
    "home_data = pd.read_csv(iowa_file_path)\n",
    "\n",
    "# Print summary statistics in next line\n",
    "print(home_data.describe())"
   ]
  },
  {
   "cell_type": "code",
   "execution_count": 15,
   "id": "5d9cda2d",
   "metadata": {},
   "outputs": [
    {
     "name": "stdout",
     "output_type": "stream",
     "text": [
      "152\n",
      "7.0\n"
     ]
    }
   ],
   "source": [
    "# What is the average lot size (rounded to nearest integer)?\n",
    "avg_lot_size = round(home_data[\"BuildingArea\"].mean())\n",
    "print(avg_lot_size)\n",
    "# As of today, how old is the newest home (current year - the date in which it was built)\n",
    "newest_home_age = 2025 - home_data[\"YearBuilt\"].max()\n",
    "print(newest_home_age)"
   ]
  }
 ],
 "metadata": {
  "kernelspec": {
   "display_name": ".venv",
   "language": "python",
   "name": "python3"
  },
  "language_info": {
   "codemirror_mode": {
    "name": "ipython",
    "version": 3
   },
   "file_extension": ".py",
   "mimetype": "text/x-python",
   "name": "python",
   "nbconvert_exporter": "python",
   "pygments_lexer": "ipython3",
   "version": "3.12.3"
  }
 },
 "nbformat": 4,
 "nbformat_minor": 5
}
